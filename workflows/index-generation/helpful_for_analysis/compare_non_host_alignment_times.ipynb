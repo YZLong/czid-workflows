{
 "cells": [
  {
   "cell_type": "code",
   "execution_count": 1,
   "id": "f6a11822",
   "metadata": {},
   "outputs": [],
   "source": [
    "import json\n",
    "\n",
    "import boto3"
   ]
  },
  {
   "cell_type": "code",
   "execution_count": 2,
   "id": "ff4dabe7",
   "metadata": {},
   "outputs": [],
   "source": [
    "# make sure you set the appropriate AWS_PROFILE in terminal before launching notebook\n",
    "\n",
    "# Initialize the Step Functions, s3, and CloudWatch Logs clients\n",
    "sfn_client = boto3.client(\"stepfunctions\")\n",
    "s3_client = boto3.client('s3')\n",
    "logs_client = boto3.client('logs')\n"
   ]
  },
  {
   "cell_type": "code",
   "execution_count": 3,
   "id": "fe1d2c51",
   "metadata": {},
   "outputs": [],
   "source": [
    "def get_execution_alignment_times(execution_arn):\n",
    "    # Get the execution history\n",
    "    execution_history = sfn_client.get_execution_history(\n",
    "        executionArn=execution_arn\n",
    "    )\n",
    "    \n",
    "    # get the job inputs to get the s3 bucket\n",
    "    event_input = json.loads(execution_history[\"events\"][0][\"executionStartedEventDetails\"][\"input\"])\n",
    "    s3_wd_uri = event_input[\"Input\"][\"NonHostAlignment\"][\"s3_wd_uri\"]\n",
    "    \n",
    "    # get the path to the non_host alignment log\n",
    "    s3_wd_uri_parts = s3_wd_uri.strip(\"s3://\").split(\"/\")\n",
    "    bucket_name = s3_wd_uri_parts[0]\n",
    "    key = \"/\".join(s3_wd_uri_parts[1::])\n",
    "    key = f\"{key}/non_host_alignment_status2.json\"\n",
    "    \n",
    "    # Get the object from S3\n",
    "    obj = s3_client.get_object(Bucket=bucket_name, Key=key)\n",
    "\n",
    "    # Read the file's content\n",
    "    file_content = json.loads(obj['Body'].read().decode('utf-8'))\n",
    "\n",
    "\n",
    "    # get alignment times: \n",
    "    diamond_time_in_seconds = float(file_content[\"diamond_out\"][\"end_time\"]) - float(file_content[\"diamond_out\"][\"start_time\"])\n",
    "    minimap_time_in_seconds = float(file_content[\"minimap2_out\"][\"end_time\"]) - float(file_content[\"minimap2_out\"][\"start_time\"])\n",
    "\n",
    "    # get the time in minutes\n",
    "    diamond_time_in_mins = diamond_time_in_seconds/60\n",
    "    minimap_time_in_mins = minimap_time_in_seconds/60\n",
    "    \n",
    "    return diamond_time_in_mins, minimap_time_in_mins\n"
   ]
  },
  {
   "cell_type": "code",
   "execution_count": 6,
   "id": "630dfe9c",
   "metadata": {},
   "outputs": [
    {
     "name": "stdout",
     "output_type": "stream",
     "text": [
      "diamond: 3.5020290851593017\n",
      "minimap: 5.072864035765331\n"
     ]
    }
   ],
   "source": [
    "# Replace with execution ARNs (right now these are stubbed)\n",
    "\n",
    "execution_arn_no_compression = 'arn:aws:states:us-west-2:732052188396:execution:idseq-swipe-staging-short-read-mngs-wdl:idseq-staging-150-32175-35212-20240122120219'\n",
    "execution_arn_w_compression = 'arn:aws:states:us-west-2:732052188396:execution:idseq-swipe-staging-short-read-mngs-wdl:idseq-staging-1166-32169-35209-20240122112059'\n",
    "\n",
    "diamond, minimap = get_execution_alignment_times(execution_arn_no_compression)\n",
    "diamond_compressed, minimap_compressed = get_execution_alignment_times(execution_arn_w_compression)\n",
    "\n",
    "time_diff_diamond = diamond-diamond_compressed\n",
    "time_diff_minimap = minimap-minimap_compressed\n",
    "\n",
    "print(f\"diamond: {time_diff_diamond}\")\n",
    "print(f\"minimap: {time_diff_minimap}\")\n",
    "\n"
   ]
  }
 ],
 "metadata": {
  "kernelspec": {
   "display_name": "Python 3 (ipykernel)",
   "language": "python",
   "name": "python3"
  },
  "language_info": {
   "codemirror_mode": {
    "name": "ipython",
    "version": 3
   },
   "file_extension": ".py",
   "mimetype": "text/x-python",
   "name": "python",
   "nbconvert_exporter": "python",
   "pygments_lexer": "ipython3",
   "version": "3.11.4"
  }
 },
 "nbformat": 4,
 "nbformat_minor": 5
}
